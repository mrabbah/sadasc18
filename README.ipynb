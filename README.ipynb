{
 "cells": [
  {
   "cell_type": "markdown",
   "metadata": {},
   "source": [
    "# Python In Real Time Application For Mobile Robot Uses cases\n",
    "## Abstract\n",
    "A real-time computer system needs both an operating system that operates in real-time and user code that delivers deterministic execution. Both deterministic user code on a non-real-time operating system, or nondeterministic code on a real-time operating system will result in real-time performance. In this repository we proposed some best practices and design pattern to overcome this difficulty, espacially while developping with Python."
   ]
  },
  {
   "cell_type": "code",
   "execution_count": null,
   "metadata": {},
   "outputs": [],
   "source": []
  }
 ],
 "metadata": {
  "kernelspec": {
   "display_name": "Python 3",
   "language": "python",
   "name": "python3"
  },
  "language_info": {
   "codemirror_mode": {
    "name": "ipython",
    "version": 3
   },
   "file_extension": ".py",
   "mimetype": "text/x-python",
   "name": "python",
   "nbconvert_exporter": "python",
   "pygments_lexer": "ipython3",
   "version": "3.6.2"
  }
 },
 "nbformat": 4,
 "nbformat_minor": 2
}
