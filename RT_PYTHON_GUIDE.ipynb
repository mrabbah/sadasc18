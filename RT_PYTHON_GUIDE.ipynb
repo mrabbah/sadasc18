{
 "cells": [
  {
   "cell_type": "markdown",
   "metadata": {},
   "source": [
    "# Developing with Python real time application user guide\n",
    "In this guide we enumerate problems encountered while developing Real Time (RT) Application using python, and for each problem we present the suggested solution \n",
    "Lets start first by importing necessary libraries:"
   ]
  },
  {
   "cell_type": "code",
   "execution_count": 11,
   "metadata": {},
   "outputs": [],
   "source": [
    "import sys\n",
    "import os\n",
    "import signal\n",
    "import subprocess\n",
    "import logging\n",
    "from uuid import getnode, uuid4\n",
    "from abc import ABC, abstractmethod\n",
    "import time\n",
    "import gc\n",
    "import atexit\n",
    "from functools import wraps\n",
    "\n",
    "log = logging.getLogger(__name__)\n",
    "\n"
   ]
  },
  {
   "cell_type": "markdown",
   "metadata": {},
   "source": [
    "The first problem we encountered while developing a RT application using Python is the garbage collector (GC). Python’s stop-the-world garbage collector makes latency non deterministic. When python decides it needs to run the garbage collector, the program gets stopped until it finishes. we will use the design pattern Decorator to inject to dismiss the GC before running critical section: First we call gc.disable() function, after that we add gc.set_threshold(0), the second instruction will prevent any third-party libraries calling gc.enable() during execution time, and so no libraries can brought the GC back. At The end of Node execution, we want the GC to clean up the memory, so we will register “os._exit” function throw the Decorator like this:"
   ]
  },
  {
   "cell_type": "code",
   "execution_count": 12,
   "metadata": {},
   "outputs": [],
   "source": [
    "def gc_decorator(critical_func):\n",
    "  \n",
    "    @wraps(critical_func)\n",
    "    def wrapper(*args, **kwargs):\n",
    "        gc.disable()\n",
    "        # gc.disable() doesn't work, because some random 3rd-party library will\n",
    "        gc.set_threshold(0)\n",
    "        # Suicide immediately after other atexit functions finishes.\n",
    "        # CPython will do a bunch of cleanups in Py_Finalize which\n",
    "        # will again cause Copy-on-Write, including a final GC\n",
    "        atexit.register(os._exit, 0)\n",
    "        return critical_func(*args, **kwargs)\n",
    "    return wrapper"
   ]
  },
  {
   "cell_type": "markdown",
   "metadata": {},
   "source": [
    "The second category of problem are :\n",
    "* Device I/O: It is essential that real-time processes have all their memory kept in physical RAM and not paged out to swap.\n",
    "* Memory management: Proper memory management is critical for real-time performance. In general, the programmer should avoid page faults in the real-time code path. During a page fault, the CPU pauses all computation and loads the missing page from disk into RAM (or cache, or registers). Loading data from disk is a slow and unpredictable operation. \n",
    "\n",
    "For memory management problem, variable declaration must be done at the initialization of the BaseNode class, and before any critical section, also using slot to declare python object can allow as control memory allocated and prevent adding additional attribute to an object later. To avoid any device IO problem, retrieving or writing data must be done outside the critical section.\n",
    "At last for Exception problem: the throw is typically banned in hard real-time applications. Instead, we may rely on return codes to do error handling.\n",
    "Lets see how can look our base class:"
   ]
  },
  {
   "cell_type": "code",
   "execution_count": 13,
   "metadata": {},
   "outputs": [],
   "source": [
    "class BaseNode(ABC):\n",
    "    __slots__ = ['_platform_id', '_pid', '_uid', ]  # using slot to declare python object can allow as\n",
    "    # control memory allocated and prevent adding additional attribute to an object later\n",
    "\n",
    "    def __init__(self, name=None):\n",
    "        super().__init__()      \n",
    "        self._platform_id = getnode()\n",
    "        self._pid = os.getpid()\n",
    "        self._uid = '%s#%s@%s' % (\n",
    "                str(uuid4()),\n",
    "                __name__,\n",
    "                ''.join((\"%012X\" % self._platform_id)[i:i + 2] for i in range(0, 12, 2))\n",
    "            )\n",
    "    \n",
    "    @abstractmethod\n",
    "    def init(self):\n",
    "        \"\"\"\n",
    "        To avoid any device IO problem, retrieving data must be done outside the critical section;\n",
    "        All initialization, loading data from disk or similar tasks must be done here\n",
    "        :return:\n",
    "        \"\"\"\n",
    "        log.debug('Initializing Node ...')\n",
    "        return 0\n",
    "\n",
    "    @abstractmethod\n",
    "    def run(self):\n",
    "        \"\"\"\n",
    "        Code to be executed by the Node\n",
    "        :return:\n",
    "        \"\"\"\n",
    "        log.debug('starting execution of node ...')\n",
    "        return 0\n",
    "\n",
    "    @abstractmethod\n",
    "    def finalize(self):\n",
    "        \"\"\"\n",
    "        To avoid any device IO problem, writing data must be done outside the critical section;\n",
    "        All finalization, writing data to disk or similar tasks must be done here\n",
    "        :return:\n",
    "        \"\"\"\n",
    "        log.debug('Finalizing the Node ...')\n",
    "        return 0\n",
    "            \n",
    "    @gc_decorator\n",
    "    def _execute(self):\n",
    "        self.init()\n",
    "        self.run()\n",
    "        self.finalize()\n",
    "        \n",
    "class RTNode(BaseNode):\n",
    "    def init(self):\n",
    "        return 0\n",
    "    \n",
    "    def run(self):\n",
    "        print(\"Node running.....\")\n",
    "        return 0\n",
    "    \n",
    "    def finalize(self):\n",
    "        return 0\n",
    "        "
   ]
  },
  {
   "cell_type": "markdown",
   "metadata": {},
   "source": [
    "now to run the RT node we can do like this:"
   ]
  },
  {
   "cell_type": "code",
   "execution_count": 14,
   "metadata": {},
   "outputs": [
    {
     "name": "stdout",
     "output_type": "stream",
     "text": [
      "Node running.....\n"
     ]
    }
   ],
   "source": [
    "mynode = RTNode()\n",
    "mynode._execute()"
   ]
  },
  {
   "cell_type": "markdown",
   "metadata": {},
   "source": [
    "the third category of problems we can face when developing a RT application are:\n",
    "* Latency: We must guarantee that our process doesn’t be pre-empted while dealing with a critical event, and we must also guarantee the latency of a process. \n",
    "* Global Interpreter Lock (GIL): Another notorious problem (at least for the standard CPython implementation of Python) is the GIL. The GIL prevent multiple python thread execute same code at the same time, so there are one GIL for each interpreter, allowing reference count being changed concurrently, the down side is in Python program, no matter how many threads exist, only one thread will be executed at a time, which means any attempt at using multithreading in order to gain concurrency benefits will be futile.\n",
    "* Copy-on-Write (CoW): Linux kernel has a mechanism called CoW that serves as an optimization for forked processes. A child process starts by sharing every memory page with its parent. A page copied to the child’s memory space only when the page is written to, because of reference counting, every time we read a Python object, the interpreter will increase its refcount, which is essentially a write to its underlying data structure. This causes CoW and leads to page faults.\n",
    "The proposed solutions for each problem are:\n",
    "* Solving the latency problem: At the constructor level, we will indicate if yes or no this task is real time, also it takes as optional parameters: the scheduling policy and the priority, we can get the Node process name throw __file__ attribute, and after that use the subprocess.check_output to retrieve the process ID, setting the priority and the scheduling policy.\n",
    "* To avoid the GIL problem, each actuator or sensor will be presented in COPDAI as Node. So, we will have just one process per task, and no need to use multithreading, against we will use multiprocessing, and so avoid the GIL downside\n",
    "* To avoid the CoW problem, we will not use the default python multiprocessing library, despite each node must be in a separate file, and we will lunch each file by calling subprocess.Popen(['python3','nodes.py'])\n",
    "the complete code can be found here [nodes.py](nodes.py)"
   ]
  },
  {
   "cell_type": "code",
   "execution_count": 16,
   "metadata": {},
   "outputs": [
    {
     "name": "stdout",
     "output_type": "stream",
     "text": [
      "process running with pid  99370\n"
     ]
    }
   ],
   "source": [
    "proc = subprocess.Popen(['python3','nodes.py'])\n",
    "print(\"process running with pid \", proc.pid)"
   ]
  },
  {
   "cell_type": "code",
   "execution_count": null,
   "metadata": {},
   "outputs": [],
   "source": []
  }
 ],
 "metadata": {
  "kernelspec": {
   "display_name": "Python 3",
   "language": "python",
   "name": "python3"
  },
  "language_info": {
   "codemirror_mode": {
    "name": "ipython",
    "version": 3
   },
   "file_extension": ".py",
   "mimetype": "text/x-python",
   "name": "python",
   "nbconvert_exporter": "python",
   "pygments_lexer": "ipython3",
   "version": "3.6.2"
  }
 },
 "nbformat": 4,
 "nbformat_minor": 2
}
